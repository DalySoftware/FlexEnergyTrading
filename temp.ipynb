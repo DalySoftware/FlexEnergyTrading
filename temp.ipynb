{
    "cells": [
        {
            "cell_type": "markdown",
            "source": [
                "# Import CSV"
            ],
            "metadata": {}
        },
        {
            "cell_type": "code",
            "execution_count": 2,
            "source": [
                "import pandas as pd\r\n",
                "from datetime import datetime\r\n",
                "\r\n",
                "df = pd.read_csv(\".\\\\InputData\\\\Natural Gas Futures Historical Data 1997 - 2021.csv\")\r\n",
                "\r\n",
                "# print(df.head(10))"
            ],
            "outputs": [],
            "metadata": {}
        },
        {
            "cell_type": "markdown",
            "source": [
                "# Format Dates"
            ],
            "metadata": {}
        },
        {
            "cell_type": "code",
            "execution_count": 3,
            "source": [
                "from datetime import datetime\r\n",
                "\r\n",
                "df[\"Date\"] = df[\"Date\"].apply(lambda x: datetime.strptime(x, \"%b %d, %Y\"))\r\n",
                "\r\n",
                "# print(df.head(10))"
            ],
            "outputs": [],
            "metadata": {}
        },
        {
            "cell_type": "markdown",
            "source": [
                "# Convert Volumes to float"
            ],
            "metadata": {}
        },
        {
            "cell_type": "code",
            "execution_count": 4,
            "source": [
                "def convert_volume(vol_string):\r\n",
                "    if vol_string == \"-\":\r\n",
                "        return 0\r\n",
                "    \r\n",
                "    return 1000 * float(vol_string.replace(\"K\", \"\"))\r\n",
                "\r\n",
                "    \r\n",
                "df[\"Vol.\"] = df[\"Vol.\"].apply(convert_volume)\r\n",
                "\r\n",
                "# print(df.head(10))"
            ],
            "outputs": [],
            "metadata": {}
        },
        {
            "cell_type": "markdown",
            "source": [
                "# Arrange/Format Headers"
            ],
            "metadata": {}
        },
        {
            "cell_type": "code",
            "execution_count": 5,
            "source": [
                "df = df.drop(columns=[\"Change %\"])\r\n",
                "df = df.rename(columns={\"Price\": \"Close\"})\r\n",
                "df = df.rename(columns={\"Vol.\": \"Volume\"})\r\n",
                "\r\n",
                "df = df[[\"Date\", \"Open\", \"High\", \"Low\", \"Close\", \"Volume\"]]\r\n",
                "\r\n",
                "print(df.head())"
            ],
            "outputs": [
                {
                    "output_type": "stream",
                    "name": "stdout",
                    "text": [
                        "        Date   Open   High    Low  Close   Volume\n",
                        "0 2021-04-23  52.15  52.55  49.40  50.72  25590.0\n",
                        "1 2021-04-22  53.25  54.71  53.00  53.86   7710.0\n",
                        "2 2021-04-21  52.82  53.29  52.20  52.82   5300.0\n",
                        "3 2021-04-20  52.00  53.64  51.52  52.82   9320.0\n",
                        "4 2021-04-19  52.00  53.10  51.85  52.48   6600.0\n"
                    ]
                }
            ],
            "metadata": {}
        },
        {
            "cell_type": "markdown",
            "source": [
                "# Trying out TA-lib"
            ],
            "metadata": {}
        },
        {
            "cell_type": "code",
            "execution_count": 6,
            "source": [
                "import pandas_ta as ta\r\n",
                "\r\n",
                "df.set_index(\"Date\", inplace=True)\r\n",
                "df.sort_index(inplace=True)\r\n",
                "\r\n",
                "# df.ta.log_return(cumulative=True, append=True)\r\n",
                "# df.ta.percent_return(cumulative=True, append=True)\r\n",
                "# df.ta.sma(length=10, append=True)\r\n",
                "\r\n",
                "# df[\"GC\"] = df.ta.sma(50, append=True) > df.ta.sma(200, append=True)\r\n",
                "# df.ta.tsignals(df.GC, asBool=True, append=True)\r\n",
                "\r\n",
                "all_strategies = df.ta.strategy(ta.CommonStrategy)\r\n",
                "\r\n",
                "print(df.tail())"
            ],
            "outputs": [
                {
                    "output_type": "stream",
                    "name": "stdout",
                    "text": [
                        "             Open   High    Low  Close   Volume  SMA_10   SMA_20   SMA_50  \\\n",
                        "Date                                                                        \n",
                        "2021-04-19  52.00  53.10  51.85  52.48   6600.0  49.163  47.9715  45.2814   \n",
                        "2021-04-20  52.00  53.64  51.52  52.82   9320.0  49.548  48.4575  45.3744   \n",
                        "2021-04-21  52.82  53.29  52.20  52.82   5300.0  50.034  48.8120  45.3686   \n",
                        "2021-04-22  53.25  54.71  53.00  53.86   7710.0  50.700  49.1715  45.4512   \n",
                        "2021-04-23  52.15  52.55  49.40  50.72  25590.0  51.086  49.3350  45.5074   \n",
                        "\n",
                        "             SMA_200  VOL_SMA_20  \n",
                        "Date                              \n",
                        "2021-04-19  38.71545      7642.0  \n",
                        "2021-04-20  38.90190      7758.0  \n",
                        "2021-04-21  39.09065      7669.0  \n",
                        "2021-04-22  39.28740      7583.0  \n",
                        "2021-04-23  39.47265      8361.5  \n"
                    ]
                }
            ],
            "metadata": {}
        }
    ],
    "metadata": {
        "orig_nbformat": 4,
        "language_info": {
            "name": "python",
            "version": "3.9.1",
            "mimetype": "text/x-python",
            "codemirror_mode": {
                "name": "ipython",
                "version": 3
            },
            "pygments_lexer": "ipython3",
            "nbconvert_exporter": "python",
            "file_extension": ".py"
        },
        "kernelspec": {
            "name": "python3",
            "display_name": "Python 3.9.1 64-bit ('.venv': venv)"
        },
        "interpreter": {
            "hash": "995be499019c4401bc849aef1ea50eaff4733600770df5179ff67fd57eef2e8e"
        }
    },
    "nbformat": 4,
    "nbformat_minor": 2
}