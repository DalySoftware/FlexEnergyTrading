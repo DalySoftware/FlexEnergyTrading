{
    "cells": [
        {
            "cell_type": "markdown",
            "source": [
                "# Import CSV"
            ],
            "metadata": {}
        },
        {
            "cell_type": "code",
            "execution_count": 1,
            "source": [
                "\r\n",
                "\r\n",
                "import pandas as pd\r\n",
                "from datetime import datetime\r\n",
                "\r\n",
                "df = pd.read_csv(\".\\\\InputData\\\\Natural Gas Futures Historical Data 1997 - 2021.csv\")\r\n",
                "\r\n",
                "# print(df.head(10))"
            ],
            "outputs": [],
            "metadata": {}
        },
        {
            "cell_type": "markdown",
            "source": [
                "# Format Dates"
            ],
            "metadata": {}
        },
        {
            "cell_type": "code",
            "execution_count": 2,
            "source": [
                "from datetime import datetime\r\n",
                "\r\n",
                "df[\"Date\"] = df[\"Date\"].apply(lambda x: datetime.strptime(x, \"%b %d, %Y\"))\r\n",
                "\r\n",
                "# print(df.head(10))"
            ],
            "outputs": [],
            "metadata": {}
        },
        {
            "cell_type": "markdown",
            "source": [
                "# Convert Volumes to float"
            ],
            "metadata": {}
        },
        {
            "cell_type": "code",
            "execution_count": 3,
            "source": [
                "def convert_volume(vol_string):\r\n",
                "    if vol_string == \"-\":\r\n",
                "        return 0\r\n",
                "    \r\n",
                "    return 1000 * float(vol_string.replace(\"K\", \"\"))\r\n",
                "\r\n",
                "    \r\n",
                "df[\"Vol.\"] = df[\"Vol.\"].apply(convert_volume)\r\n",
                "\r\n",
                "# print(df.head(10))"
            ],
            "outputs": [],
            "metadata": {}
        },
        {
            "cell_type": "markdown",
            "source": [
                "# Drop Unneeded Columns"
            ],
            "metadata": {}
        },
        {
            "cell_type": "code",
            "execution_count": 4,
            "source": [
                "df = df.drop(columns=[\"Change %\"])\r\n",
                "\r\n",
                "print(df.head())"
            ],
            "outputs": [
                {
                    "output_type": "stream",
                    "name": "stdout",
                    "text": [
                        "        Date  Price   Open   High    Low     Vol.\n",
                        "0 2021-04-23  50.72  52.15  52.55  49.40  25590.0\n",
                        "1 2021-04-22  53.86  53.25  54.71  53.00   7710.0\n",
                        "2 2021-04-21  52.82  52.82  53.29  52.20   5300.0\n",
                        "3 2021-04-20  52.82  52.00  53.64  51.52   9320.0\n",
                        "4 2021-04-19  52.48  52.00  53.10  51.85   6600.0\n"
                    ]
                }
            ],
            "metadata": {}
        }
    ],
    "metadata": {
        "orig_nbformat": 4,
        "language_info": {
            "name": "python",
            "version": "3.9.1",
            "mimetype": "text/x-python",
            "codemirror_mode": {
                "name": "ipython",
                "version": 3
            },
            "pygments_lexer": "ipython3",
            "nbconvert_exporter": "python",
            "file_extension": ".py"
        },
        "kernelspec": {
            "name": "python3",
            "display_name": "Python 3.9.1 64-bit ('.venv': venv)"
        },
        "interpreter": {
            "hash": "995be499019c4401bc849aef1ea50eaff4733600770df5179ff67fd57eef2e8e"
        }
    },
    "nbformat": 4,
    "nbformat_minor": 2
}